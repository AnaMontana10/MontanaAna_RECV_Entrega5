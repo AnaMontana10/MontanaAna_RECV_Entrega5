{
  "nbformat": 4,
  "nbformat_minor": 0,
  "metadata": {
    "colab": {
      "name": "MontanaAna_RECV_entrega5.ipynb",
      "provenance": []
    },
    "kernelspec": {
      "name": "python3",
      "display_name": "Python 3"
    },
    "language_info": {
      "name": "python"
    }
  },
  "cells": [
    {
      "cell_type": "code",
      "metadata": {
        "id": "ON7DJcXoU87-"
      },
      "source": [
        "\n",
        "#-- Descomprimimos el dataset\n",
        "!rm -r mnist\n",
        "!unzip mnist.zip"
      ],
      "execution_count": null,
      "outputs": []
    },
    {
      "cell_type": "code",
      "metadata": {
        "colab": {
          "base_uri": "https://localhost:8080/",
          "height": 35
        },
        "id": "MXsWb_HPYZBw",
        "outputId": "8458a216-1253-4b12-a14e-ddab021c385b"
      },
      "source": [
        "from glob import glob\n",
        "\n",
        "train_files = glob('./mnist/train/*/*.png')\n",
        "valid_files = glob('./mnist/valid/*/*.png')\n",
        "test_files = glob('./mnist/test/*/*.png')\n",
        "\n",
        "train_files[0]"
      ],
      "execution_count": 4,
      "outputs": [
        {
          "output_type": "execute_result",
          "data": {
            "application/vnd.google.colaboratory.intrinsic+json": {
              "type": "string"
            },
            "text/plain": [
              "'./mnist/train/0/3565.png'"
            ]
          },
          "metadata": {},
          "execution_count": 4
        }
      ]
    },
    {
      "cell_type": "code",
      "metadata": {
        "colab": {
          "base_uri": "https://localhost:8080/"
        },
        "id": "gDwfEdUdYsAe",
        "outputId": "296266ba-9284-4b9d-dd2f-c4575e273189"
      },
      "source": [
        "import numpy as np\n",
        "\n",
        "np.random.shuffle(train_files)\n",
        "np.random.shuffle(valid_files)\n",
        "np.random.shuffle(test_files)\n",
        "\n",
        "len(train_files), len(valid_files), len(test_files)"
      ],
      "execution_count": 5,
      "outputs": [
        {
          "output_type": "execute_result",
          "data": {
            "text/plain": [
              "(6000, 2000, 992)"
            ]
          },
          "metadata": {},
          "execution_count": 5
        }
      ]
    },
    {
      "cell_type": "code",
      "metadata": {
        "colab": {
          "base_uri": "https://localhost:8080/"
        },
        "id": "9OPsELaJYxEF",
        "outputId": "a8578681-fdc0-494a-9c97-da77cf0aafe7"
      },
      "source": [
        "train_files10 = train_files[:600]\n",
        "print(len(train_files10))\n",
        "train_files20 = train_files[:1200]\n",
        "print(len(train_files20))\n",
        "train_files50 = train_files[:3000]\n",
        "print(len(train_files50))\n",
        "train_files80 = train_files[:4800]\n",
        "len(train_files80)\n"
      ],
      "execution_count": 11,
      "outputs": [
        {
          "output_type": "stream",
          "text": [
            "600\n",
            "1200\n",
            "3000\n"
          ],
          "name": "stdout"
        },
        {
          "output_type": "execute_result",
          "data": {
            "text/plain": [
              "4800"
            ]
          },
          "metadata": {},
          "execution_count": 11
        }
      ]
    },
    {
      "cell_type": "markdown",
      "metadata": {
        "id": "9fV3Ptz6aK8j"
      },
      "source": [
        "Para train 100% y valid 100%"
      ]
    },
    {
      "cell_type": "code",
      "metadata": {
        "id": "I1PZEtVvaQkK"
      },
      "source": [
        "from PIL import Image\n",
        "\n",
        "N_train = len(train_files)\n",
        "X_train = []\n",
        "Y_train = []\n",
        "\n",
        "for i, train_file in enumerate(train_files):\n",
        "  Y_train.append( int(train_file.split('/')[3]) )\n",
        "  X_train.append(np.array(Image.open(train_file)))\n",
        "\n",
        "\n",
        "N_valid = len(valid_files)\n",
        "X_valid = []\n",
        "Y_valid = []\n",
        "\n",
        "for i, valid_file in enumerate(valid_files):\n",
        "  Y_valid.append( int(valid_file.split('/')[3]) )\n",
        "  X_valid.append( np.array(Image.open(valid_file)) )\n",
        "\n",
        "N_test = len(test_files)\n",
        "X_test = []\n",
        "Y_test = []\n",
        "\n",
        "for i, test_file in enumerate(test_files):\n",
        "  Y_test.append( int(test_file.split('/')[3]) )\n",
        "  X_test.append( np.array(Image.open(test_file)) )"
      ],
      "execution_count": 63,
      "outputs": []
    },
    {
      "cell_type": "code",
      "metadata": {
        "colab": {
          "base_uri": "https://localhost:8080/",
          "height": 350
        },
        "id": "vorHFhx8aglU",
        "outputId": "102096fc-e623-447a-b6c7-3c4217813c13"
      },
      "source": [
        "#--- Visualizamos la distribución de clases en cada subset\n",
        "from PIL import Image\n",
        "import matplotlib.pyplot as plt\n",
        "\n",
        "fig = plt.figure(figsize=(15,5))\n",
        "plt.subplot(1,3,1)\n",
        "plt.hist(np.sort(Y_train))\n",
        "plt.xlabel('class')\n",
        "plt.ylabel('counts')\n",
        "plt.title('Train set')\n",
        "\n",
        "plt.subplot(1,3,2)\n",
        "plt.hist(np.sort(Y_valid))\n",
        "plt.xlabel('class')\n",
        "plt.ylabel('counts')\n",
        "plt.title('Valid set')\n",
        "\n",
        "plt.subplot(1,3,3)\n",
        "plt.hist(np.sort(Y_test))\n",
        "plt.xlabel('class')\n",
        "plt.ylabel('counts')\n",
        "plt.title('Test set')\n",
        "\n",
        "plt.show()"
      ],
      "execution_count": 64,
      "outputs": [
        {
          "output_type": "display_data",
          "data": {
            "image/png": "[encoded data removed]",
            "text/plain": [
              "<Figure size 1080x360 with 3 Axes>"
            ]
          },
          "metadata": {
            "needs_background": "light"
          }
        }
      ]
    },
    {
      "cell_type": "code",
      "metadata": {
        "colab": {
          "base_uri": "https://localhost:8080/",
          "height": 482
        },
        "id": "liZL367FanAe",
        "outputId": "137a9017-510e-4c14-ff7a-3606cbf06afa"
      },
      "source": [
        "#-- Visualizamos los datos\n",
        "fig = plt.figure(figsize=(8,8))\n",
        "for i in range(4):\n",
        "  plt.subplot(2,2,i+1)\n",
        "  plt.imshow(X_test[i*15])\n",
        "  plt.title(Y_test[i*15])\n",
        "  plt.axis(False)\n",
        "plt.show()"
      ],
      "execution_count": 14,
      "outputs": [
        {
          "output_type": "display_data",
          "data": {
            "image/png": "[encoded data removed]",
            "text/plain": [
              "<Figure size 576x576 with 4 Axes>"
            ]
          },
          "metadata": {
            "needs_background": "light"
          }
        }
      ]
    },
    {
      "cell_type": "code",
      "metadata": {
        "id": "aac-doFkarmL"
      },
      "source": [
        "#--- Convertimos las listas de datos a tensores de torch\n",
        "import torch\n",
        "from torch.autograd import Variable\n",
        "\n",
        "X_train = Variable(torch.from_numpy(np.array(X_train))).float()\n",
        "Y_train = Variable(torch.from_numpy(np.array(Y_train))).long()\n",
        "\n",
        "X_valid = Variable(torch.from_numpy(np.array(X_valid))).float()\n",
        "Y_valid = Variable(torch.from_numpy(np.array(Y_valid))).long()\n",
        "\n",
        "X_test = Variable(torch.from_numpy(np.array(X_test))).float()\n",
        "Y_test = Variable(torch.from_numpy(np.array(Y_test))).long()\n",
        "\n",
        "X_train.data.size()\n",
        "\n",
        "#--- Definimos una ANN con dos capas ocultas lineales de 100 neuronas\n",
        "\n",
        "input_dim = 28*28\n",
        "out_dim = 10\n",
        "hidden = 50\n",
        "\n",
        "model = torch.nn.Sequential(\n",
        "  torch.nn.Linear(input_dim, hidden),\n",
        "  torch.nn.ReLU(),  \n",
        "  torch.nn.Linear(hidden, hidden),\n",
        "  torch.nn.ReLU(),       \n",
        "  torch.nn.Linear(hidden, out_dim)\n",
        ")\n",
        "\n",
        "optimizer = torch.optim.Adam(model.parameters())\n",
        "criterion = torch.nn.CrossEntropyLoss()"
      ],
      "execution_count": 65,
      "outputs": []
    },
    {
      "cell_type": "code",
      "metadata": {
        "id": "H_BMiHUgaxui"
      },
      "source": [
        "from sklearn.metrics import f1_score # Nueva métrica (La revisaremos la próóxima sesión)\n",
        "\n",
        "#-- Número de épocas\n",
        "n_epoch = 100\n",
        "\n",
        "#-- Listas de evaluación entrenamiento\n",
        "loss_train = []\n",
        "f1_train = []\n",
        "acc_train = []\n",
        "\n",
        "#-- Listas de evaluación validación\n",
        "loss_valid = []\n",
        "f1_valid = []\n",
        "acc_valid = []\n",
        "\n",
        "#-- Entrenamineto de la ANN\n",
        "for epoch in range(n_epoch):\n",
        "  model.train()\n",
        "  \n",
        "  Xtr = X_train.view(X_train.size(0), -1)\n",
        "  Y_pred = model(Xtr)\n",
        "\n",
        "  loss = criterion(Y_pred,Y_train)\n",
        "  loss_train.append(loss.item())\n",
        "\n",
        "  Y_pred = torch.argmax(Y_pred, 1)\n",
        "  f1_train.append( f1_score(Y_train,Y_pred, average='macro') )\n",
        "  \n",
        "  acc = sum(Y_train == Y_pred)/len(Y_pred)\n",
        "  acc_train.append(acc)\n",
        "\n",
        "  optimizer.zero_grad()\n",
        "  loss.backward()\n",
        "  optimizer.step()\n",
        "\n",
        "  print( 'Epoch [{}/{}], loss: {}. f1:{} acc: {} '.format(epoch+1,n_epoch,loss_train[-1], f1_train[-1], acc_train[-1]) )\n",
        "\n",
        "  model.eval()\n",
        "  Xvl = X_valid.view(X_valid.size(0), -1)\n",
        "  Y_pred = model(Xvl)  \n",
        "  loss = criterion(Y_pred,Y_valid)\n",
        "  loss_valid.append(loss.item())\n",
        "\n",
        "  Y_pred = torch.argmax(Y_pred, 1)\n",
        "  f1_valid.append( f1_score(Y_valid, Y_pred, average='macro') )\n",
        "\n",
        "  acc = sum(Y_valid == Y_pred)/len(Y_pred)\n",
        "  acc_valid.append(acc)"
      ],
      "execution_count": null,
      "outputs": []
    },
    {
      "cell_type": "code",
      "metadata": {
        "colab": {
          "base_uri": "https://localhost:8080/",
          "height": 338
        },
        "id": "aWQFfZkEa7Qz",
        "outputId": "d57fdc06-f373-4c32-812a-d3a65a7fe4bc"
      },
      "source": [
        "#-- Visualizamos las curvas de entrenamiento y validación\n",
        "\n",
        "fig = plt.figure(figsize=(15,5))\n",
        "plt.subplot(1,3,1)\n",
        "plt.plot(range(n_epoch), loss_train, label='train')\n",
        "plt.plot(range(n_epoch), loss_valid, label='valid')\n",
        "plt.xlabel('n_epoch')\n",
        "plt.ylabel('loss')\n",
        "plt.legend()\n",
        "plt.grid()\n",
        "plt.subplot(1,3,2)\n",
        "plt.plot(range(n_epoch), f1_train, label='train')\n",
        "plt.plot(range(n_epoch), f1_valid, label='valid')\n",
        "plt.xlabel('n_epoch')\n",
        "plt.ylabel('f1_score')\n",
        "plt.legend()\n",
        "plt.grid()\n",
        "plt.subplot(1,3,3)\n",
        "plt.plot(range(n_epoch), acc_train, label='train')\n",
        "plt.plot(range(n_epoch), acc_valid, label='valid')\n",
        "plt.xlabel('n_epoch')\n",
        "plt.ylabel('accuracy')\n",
        "plt.legend()\n",
        "plt.grid()\n",
        "\n",
        "plt.savefig('./curves_ok.png', bbox_inches='tight')\n",
        "plt.show()"
      ],
      "execution_count": 67,
      "outputs": [
        {
          "output_type": "display_data",
          "data": {
            "image/png": "[encoded data removed]",
            "text/plain": [
              "<Figure size 1080x360 with 3 Axes>"
            ]
          },
          "metadata": {
            "needs_background": "light"
          }
        }
      ]
    },
    {
      "cell_type": "code",
      "metadata": {
        "colab": {
          "base_uri": "https://localhost:8080/"
        },
        "id": "vloLeQo-a_ic",
        "outputId": "ad6d6108-f1f5-46c2-a244-c7a79ab9460c"
      },
      "source": [
        "#-- Evaluamos el modelo entrenado con el set de testeo\n",
        "\n",
        "model.eval()\n",
        "\n",
        "Xts = X_test.view(X_test.size(0), -1)\n",
        "Y_pred = model(Xts)  \n",
        "loss = criterion(Y_pred,Y_test)\n",
        "\n",
        "Y_pred = torch.argmax(Y_pred, 1)\n",
        "f1 = f1_score(Y_test, Y_pred, average='macro')\n",
        "\n",
        "acc = sum(Y_test == Y_pred)/len(Y_pred)\n",
        "\n",
        "print('loss: {}, f1: {}, acc: {}'.format(loss.item(), f1, acc))"
      ],
      "execution_count": 68,
      "outputs": [
        {
          "output_type": "stream",
          "text": [
            "loss: 0.3351304829120636, f1: 0.897917718371821, acc: 0.8981854915618896\n"
          ],
          "name": "stdout"
        }
      ]
    },
    {
      "cell_type": "markdown",
      "metadata": {
        "id": "D5MOK0BmbA1T"
      },
      "source": [
        "Para train. 10% y valid 100%"
      ]
    },
    {
      "cell_type": "code",
      "metadata": {
        "id": "gO_EknDubDkZ"
      },
      "source": [
        "from PIL import Image\n",
        "\n",
        "N_train = len(train_files10)\n",
        "X_train = []\n",
        "Y_train = []\n",
        "\n",
        "for i, train_file in enumerate(train_files10):\n",
        "  Y_train.append( int(train_file.split('/')[3]) )\n",
        "  X_train.append(np.array(Image.open(train_file)))\n",
        "\n",
        "\n",
        "N_valid = len(valid_files)\n",
        "X_valid = []\n",
        "Y_valid = []\n",
        "\n",
        "for i, valid_file in enumerate(valid_files):\n",
        "  Y_valid.append( int(valid_file.split('/')[3]) )\n",
        "  X_valid.append( np.array(Image.open(valid_file)) )\n",
        "\n",
        "N_test = len(test_files)\n",
        "X_test = []\n",
        "Y_test = []\n",
        "\n",
        "for i, test_file in enumerate(test_files):\n",
        "  Y_test.append( int(test_file.split('/')[3]) )\n",
        "  X_test.append( np.array(Image.open(test_file)) )"
      ],
      "execution_count": 19,
      "outputs": []
    },
    {
      "cell_type": "code",
      "metadata": {
        "id": "eRiK99QqbOzF"
      },
      "source": [
        "#--- Convertimos las listas de datos a tensores de torch\n",
        "import torch\n",
        "from torch.autograd import Variable\n",
        "\n",
        "X_train = Variable(torch.from_numpy(np.array(X_train))).float()\n",
        "Y_train = Variable(torch.from_numpy(np.array(Y_train))).long()\n",
        "\n",
        "X_valid = Variable(torch.from_numpy(np.array(X_valid))).float()\n",
        "Y_valid = Variable(torch.from_numpy(np.array(Y_valid))).long()\n",
        "\n",
        "X_test = Variable(torch.from_numpy(np.array(X_test))).float()\n",
        "Y_test = Variable(torch.from_numpy(np.array(Y_test))).long()\n",
        "\n",
        "X_train.data.size()\n",
        "\n",
        "#--- Definimos una ANN con dos capas ocultas lineales de 100 neuronas\n",
        "\n",
        "input_dim = 28*28\n",
        "out_dim = 10\n",
        "hidden = 50\n",
        "\n",
        "model = torch.nn.Sequential(\n",
        "  torch.nn.Linear(input_dim, hidden),\n",
        "  torch.nn.ReLU(),  \n",
        "  torch.nn.Linear(hidden, hidden),\n",
        "  torch.nn.ReLU(),       \n",
        "  torch.nn.Linear(hidden, out_dim)\n",
        ")\n",
        "\n",
        "optimizer = torch.optim.Adam(model.parameters())\n",
        "criterion = torch.nn.CrossEntropyLoss()"
      ],
      "execution_count": 28,
      "outputs": []
    },
    {
      "cell_type": "code",
      "metadata": {
        "id": "IyiCX4wrbg5A"
      },
      "source": [
        "from sklearn.metrics import f1_score # Nueva métrica (La revisaremos la próóxima sesión)\n",
        "\n",
        "#-- Número de épocas\n",
        "n_epoch = 100\n",
        "\n",
        "#-- Listas de evaluación entrenamiento\n",
        "loss_train = []\n",
        "f1_train = []\n",
        "acc_train = []\n",
        "\n",
        "#-- Listas de evaluación validación\n",
        "loss_valid = []\n",
        "f1_valid = []\n",
        "acc_valid = []\n",
        "\n",
        "#-- Entrenamineto de la ANN\n",
        "for epoch in range(n_epoch):\n",
        "  model.train()\n",
        "  \n",
        "  Xtr = X_train.view(X_train.size(0), -1)\n",
        "  Y_pred = model(Xtr)\n",
        "\n",
        "  loss = criterion(Y_pred,Y_train)\n",
        "  loss_train.append(loss.item())\n",
        "\n",
        "  Y_pred = torch.argmax(Y_pred, 1)\n",
        "  f1_train.append( f1_score(Y_train,Y_pred, average='macro') )\n",
        "  \n",
        "  acc = sum(Y_train == Y_pred)/len(Y_pred)\n",
        "  acc_train.append(acc)\n",
        "\n",
        "  optimizer.zero_grad()\n",
        "  loss.backward()\n",
        "  optimizer.step()\n",
        "\n",
        "  print( 'Epoch [{}/{}], loss: {}. f1:{} acc: {} '.format(epoch+1,n_epoch,loss_train[-1], f1_train[-1], acc_train[-1]) )\n",
        "\n",
        "  model.eval()\n",
        "  Xvl = X_valid.view(X_valid.size(0), -1)\n",
        "  Y_pred = model(Xvl)  \n",
        "  loss = criterion(Y_pred,Y_valid)\n",
        "  loss_valid.append(loss.item())\n",
        "\n",
        "  Y_pred = torch.argmax(Y_pred, 1)\n",
        "  f1_valid.append( f1_score(Y_valid, Y_pred, average='macro') )\n",
        "\n",
        "  acc = sum(Y_valid == Y_pred)/len(Y_pred)\n",
        "  acc_valid.append(acc)"
      ],
      "execution_count": null,
      "outputs": []
    },
    {
      "cell_type": "code",
      "metadata": {
        "colab": {
          "base_uri": "https://localhost:8080/",
          "height": 335
        },
        "id": "7rP4vgDTblen",
        "outputId": "215d5623-9c2a-47a4-93eb-a88c9da03bcc"
      },
      "source": [
        "#-- Visualizamos las curvas de entrenamiento y validación\n",
        "\n",
        "fig = plt.figure(figsize=(15,5))\n",
        "plt.subplot(1,3,1)\n",
        "plt.plot(range(n_epoch), loss_train, label='train')\n",
        "plt.plot(range(n_epoch), loss_valid, label='valid')\n",
        "plt.xlabel('n_epoch')\n",
        "plt.ylabel('loss')\n",
        "plt.legend()\n",
        "plt.grid()\n",
        "plt.subplot(1,3,2)\n",
        "plt.plot(range(n_epoch), f1_train, label='train')\n",
        "plt.plot(range(n_epoch), f1_valid, label='valid')\n",
        "plt.xlabel('n_epoch')\n",
        "plt.ylabel('f1_score')\n",
        "plt.legend()\n",
        "plt.grid()\n",
        "plt.subplot(1,3,3)\n",
        "plt.plot(range(n_epoch), acc_train, label='train')\n",
        "plt.plot(range(n_epoch), acc_valid, label='valid')\n",
        "plt.xlabel('n_epoch')\n",
        "plt.ylabel('accuracy')\n",
        "plt.legend()\n",
        "plt.grid()\n",
        "\n",
        "plt.savefig('./curves_ok.png', bbox_inches='tight')\n",
        "plt.show()"
      ],
      "execution_count": 30,
      "outputs": [
        {
          "output_type": "display_data",
          "data": {
            "image/png": "[encoded data removed]",
            "text/plain": [
              "<Figure size 1080x360 with 3 Axes>"
            ]
          },
          "metadata": {
            "needs_background": "light"
          }
        }
      ]
    },
    {
      "cell_type": "code",
      "metadata": {
        "colab": {
          "base_uri": "https://localhost:8080/"
        },
        "id": "fZKSTnzEbpal",
        "outputId": "909d1d02-51a5-41ec-fc9f-006ac81e8c1f"
      },
      "source": [
        "#-- Evaluamos el modelo entrenado con el set de testeo\n",
        "\n",
        "model.eval()\n",
        "\n",
        "Xts = X_test.view(X_test.size(0), -1)\n",
        "Y_pred = model(Xts)  \n",
        "loss = criterion(Y_pred,Y_test)\n",
        "\n",
        "Y_pred = torch.argmax(Y_pred, 1)\n",
        "f1 = f1_score(Y_test, Y_pred, average='macro')\n",
        "\n",
        "acc = sum(Y_test == Y_pred)/len(Y_pred)\n",
        "\n",
        "print('loss: {}, f1: {}, acc: {}'.format(loss.item(), f1, acc))"
      ],
      "execution_count": 23,
      "outputs": [
        {
          "output_type": "stream",
          "text": [
            "loss: 1.8107762336730957, f1: 0.8256423464804609, acc: 0.8266128897666931\n"
          ],
          "name": "stdout"
        }
      ]
    },
    {
      "cell_type": "markdown",
      "metadata": {
        "id": "76Wg_Ffjb0Zc"
      },
      "source": [
        "Para train 20% y valid 100%"
      ]
    },
    {
      "cell_type": "code",
      "metadata": {
        "id": "Q15TsaZwbzpp"
      },
      "source": [
        "from PIL import Image\n",
        "\n",
        "N_train = len(train_files20)\n",
        "X_train = []\n",
        "Y_train = []\n",
        "\n",
        "for i, train_file in enumerate(train_files10):\n",
        "  Y_train.append( int(train_file.split('/')[3]) )\n",
        "  X_train.append(np.array(Image.open(train_file)))\n",
        "\n",
        "\n",
        "N_valid = len(valid_files)\n",
        "X_valid = []\n",
        "Y_valid = []\n",
        "\n",
        "for i, valid_file in enumerate(valid_files):\n",
        "  Y_valid.append( int(valid_file.split('/')[3]) )\n",
        "  X_valid.append( np.array(Image.open(valid_file)) )\n",
        "\n",
        "N_test = len(test_files)\n",
        "X_test = []\n",
        "Y_test = []\n",
        "\n",
        "for i, test_file in enumerate(test_files):\n",
        "  Y_test.append( int(test_file.split('/')[3]) )\n",
        "  X_test.append( np.array(Image.open(test_file)) )\n",
        "\n",
        "#--- Convertimos las listas de datos a tensores de torch\n",
        "import torch\n",
        "from torch.autograd import Variable\n",
        "\n",
        "X_train = Variable(torch.from_numpy(np.array(X_train))).float()\n",
        "Y_train = Variable(torch.from_numpy(np.array(Y_train))).long()\n",
        "\n",
        "X_valid = Variable(torch.from_numpy(np.array(X_valid))).float()\n",
        "Y_valid = Variable(torch.from_numpy(np.array(Y_valid))).long()\n",
        "\n",
        "X_test = Variable(torch.from_numpy(np.array(X_test))).float()\n",
        "Y_test = Variable(torch.from_numpy(np.array(Y_test))).long()\n",
        "\n",
        "X_train.data.size()\n",
        "\n",
        "#--- Definimos una ANN con dos capas ocultas lineales de 100 neuronas\n",
        "\n",
        "input_dim = 28*28\n",
        "out_dim = 10\n",
        "hidden = 50\n",
        "\n",
        "model = torch.nn.Sequential(\n",
        "  torch.nn.Linear(input_dim, hidden),\n",
        "  torch.nn.ReLU(),  \n",
        "  torch.nn.Linear(hidden, hidden),\n",
        "  torch.nn.ReLU(),       \n",
        "  torch.nn.Linear(hidden, out_dim)\n",
        ")\n",
        "optimizer = torch.optim.Adam(model.parameters())\n",
        "criterion = torch.nn.CrossEntropyLoss()"
      ],
      "execution_count": 31,
      "outputs": []
    },
    {
      "cell_type": "code",
      "metadata": {
        "id": "OVoRxqppcztv"
      },
      "source": [
        "from sklearn.metrics import f1_score # Nueva métrica (La revisaremos la próóxima sesión)\n",
        "\n",
        "#-- Número de épocas\n",
        "n_epoch = 100\n",
        "\n",
        "#-- Listas de evaluación entrenamiento\n",
        "loss_train = []\n",
        "f1_train = []\n",
        "acc_train = []\n",
        "\n",
        "#-- Listas de evaluación validación\n",
        "loss_valid = []\n",
        "f1_valid = []\n",
        "acc_valid = []\n",
        "\n",
        "#-- Entrenamineto de la ANN\n",
        "for epoch in range(n_epoch):\n",
        "  model.train()\n",
        "  \n",
        "  Xtr = X_train.view(X_train.size(0), -1)\n",
        "  Y_pred = model(Xtr)\n",
        "\n",
        "  loss = criterion(Y_pred,Y_train)\n",
        "  loss_train.append(loss.item())\n",
        "\n",
        "  Y_pred = torch.argmax(Y_pred, 1)\n",
        "  f1_train.append( f1_score(Y_train,Y_pred, average='macro') )\n",
        "  \n",
        "  acc = sum(Y_train == Y_pred)/len(Y_pred)\n",
        "  acc_train.append(acc)\n",
        "\n",
        "  optimizer.zero_grad()\n",
        "  loss.backward()\n",
        "  optimizer.step()\n",
        "\n",
        "  print( 'Epoch [{}/{}], loss: {}. f1:{} acc: {} '.format(epoch+1,n_epoch,loss_train[-1], f1_train[-1], acc_train[-1]) )\n",
        "\n",
        "  model.eval()\n",
        "  Xvl = X_valid.view(X_valid.size(0), -1)\n",
        "  Y_pred = model(Xvl)  \n",
        "  loss = criterion(Y_pred,Y_valid)\n",
        "  loss_valid.append(loss.item())\n",
        "\n",
        "  Y_pred = torch.argmax(Y_pred, 1)\n",
        "  f1_valid.append( f1_score(Y_valid, Y_pred, average='macro') )\n",
        "\n",
        "  acc = sum(Y_valid == Y_pred)/len(Y_pred)\n",
        "  acc_valid.append(acc)"
      ],
      "execution_count": null,
      "outputs": []
    },
    {
      "cell_type": "code",
      "metadata": {
        "colab": {
          "base_uri": "https://localhost:8080/",
          "height": 335
        },
        "id": "d1KIal82c4MT",
        "outputId": "d909a141-4db7-48fd-8f7f-977e42c7ee88"
      },
      "source": [
        "#-- Visualizamos las curvas de entrenamiento y validación\n",
        "\n",
        "fig = plt.figure(figsize=(15,5))\n",
        "plt.subplot(1,3,1)\n",
        "plt.plot(range(n_epoch), loss_train, label='train')\n",
        "plt.plot(range(n_epoch), loss_valid, label='valid')\n",
        "plt.xlabel('n_epoch')\n",
        "plt.ylabel('loss')\n",
        "plt.legend()\n",
        "plt.grid()\n",
        "plt.subplot(1,3,2)\n",
        "plt.plot(range(n_epoch), f1_train, label='train')\n",
        "plt.plot(range(n_epoch), f1_valid, label='valid')\n",
        "plt.xlabel('n_epoch')\n",
        "plt.ylabel('f1_score')\n",
        "plt.legend()\n",
        "plt.grid()\n",
        "plt.subplot(1,3,3)\n",
        "plt.plot(range(n_epoch), acc_train, label='train')\n",
        "plt.plot(range(n_epoch), acc_valid, label='valid')\n",
        "plt.xlabel('n_epoch')\n",
        "plt.ylabel('accuracy')\n",
        "plt.legend()\n",
        "plt.grid()\n",
        "\n",
        "plt.savefig('./curves_ok.png', bbox_inches='tight')\n",
        "plt.show()"
      ],
      "execution_count": 33,
      "outputs": [
        {
          "output_type": "display_data",
          "data": {
            "image/png": "[encoded data removed]",
            "text/plain": [
              "<Figure size 1080x360 with 3 Axes>"
            ]
          },
          "metadata": {
            "needs_background": "light"
          }
        }
      ]
    },
    {
      "cell_type": "code",
      "metadata": {
        "colab": {
          "base_uri": "https://localhost:8080/"
        },
        "id": "JYfPVyMjc8VO",
        "outputId": "846e70cd-31e5-448c-d638-609b8bfd027d"
      },
      "source": [
        "#-- Evaluamos el modelo entrenado con el set de testeo\n",
        "\n",
        "model.eval()\n",
        "\n",
        "Xts = X_test.view(X_test.size(0), -1)\n",
        "Y_pred = model(Xts)  \n",
        "loss = criterion(Y_pred,Y_test)\n",
        "\n",
        "Y_pred = torch.argmax(Y_pred, 1)\n",
        "f1 = f1_score(Y_test, Y_pred, average='macro')\n",
        "\n",
        "acc = sum(Y_test == Y_pred)/len(Y_pred)\n",
        "\n",
        "print('loss: {}, f1: {}, acc: {}'.format(loss.item(), f1, acc))"
      ],
      "execution_count": 34,
      "outputs": [
        {
          "output_type": "stream",
          "text": [
            "loss: 0.839064359664917, f1: 0.8161649254609218, acc: 0.819556474685669\n"
          ],
          "name": "stdout"
        }
      ]
    },
    {
      "cell_type": "markdown",
      "metadata": {
        "id": "VMNqWihsdCVi"
      },
      "source": [
        "Para train 50%. y valid 100%"
      ]
    },
    {
      "cell_type": "code",
      "metadata": {
        "id": "7kcGNVX3dGGz"
      },
      "source": [
        "from PIL import Image\n",
        "\n",
        "N_train = len(train_files50)\n",
        "X_train = []\n",
        "Y_train = []\n",
        "\n",
        "for i, train_file in enumerate(train_files50):\n",
        "  Y_train.append( int(train_file.split('/')[3]) )\n",
        "  X_train.append(np.array(Image.open(train_file)))\n",
        "\n",
        "\n",
        "N_valid = len(valid_files)\n",
        "X_valid = []\n",
        "Y_valid = []\n",
        "\n",
        "for i, valid_file in enumerate(valid_files):\n",
        "  Y_valid.append( int(valid_file.split('/')[3]) )\n",
        "  X_valid.append( np.array(Image.open(valid_file)) )\n",
        "\n",
        "N_test = len(test_files)\n",
        "X_test = []\n",
        "Y_test = []\n",
        "\n",
        "for i, test_file in enumerate(test_files):\n",
        "  Y_test.append( int(test_file.split('/')[3]) )\n",
        "  X_test.append( np.array(Image.open(test_file)) )\n",
        "\n",
        "#--- Convertimos las listas de datos a tensores de torch\n",
        "import torch\n",
        "from torch.autograd import Variable\n",
        "\n",
        "X_train = Variable(torch.from_numpy(np.array(X_train))).float()\n",
        "Y_train = Variable(torch.from_numpy(np.array(Y_train))).long()\n",
        "\n",
        "X_valid = Variable(torch.from_numpy(np.array(X_valid))).float()\n",
        "Y_valid = Variable(torch.from_numpy(np.array(Y_valid))).long()\n",
        "\n",
        "X_test = Variable(torch.from_numpy(np.array(X_test))).float()\n",
        "Y_test = Variable(torch.from_numpy(np.array(Y_test))).long()\n",
        "\n",
        "X_train.data.size()\n",
        "\n",
        "#--- Definimos una ANN con dos capas ocultas lineales de 100 neuronas\n",
        "\n",
        "input_dim = 28*28\n",
        "out_dim = 10\n",
        "hidden = 50\n",
        "\n",
        "model = torch.nn.Sequential(\n",
        "  torch.nn.Linear(input_dim, hidden),\n",
        "  torch.nn.ReLU(),  \n",
        "  torch.nn.Linear(hidden, hidden),\n",
        "  torch.nn.ReLU(),       \n",
        "  torch.nn.Linear(hidden, out_dim)\n",
        ")\n",
        "optimizer = torch.optim.Adam(model.parameters())\n",
        "criterion = torch.nn.CrossEntropyLoss()"
      ],
      "execution_count": 35,
      "outputs": []
    },
    {
      "cell_type": "code",
      "metadata": {
        "id": "64PL5vCldTDJ"
      },
      "source": [
        "from sklearn.metrics import f1_score # Nueva métrica (La revisaremos la próóxima sesión)\n",
        "\n",
        "#-- Número de épocas\n",
        "n_epoch = 100\n",
        "\n",
        "#-- Listas de evaluación entrenamiento\n",
        "loss_train = []\n",
        "f1_train = []\n",
        "acc_train = []\n",
        "\n",
        "#-- Listas de evaluación validación\n",
        "loss_valid = []\n",
        "f1_valid = []\n",
        "acc_valid = []\n",
        "\n",
        "#-- Entrenamineto de la ANN\n",
        "for epoch in range(n_epoch):\n",
        "  model.train()\n",
        "  \n",
        "  Xtr = X_train.view(X_train.size(0), -1)\n",
        "  Y_pred = model(Xtr)\n",
        "\n",
        "  loss = criterion(Y_pred,Y_train)\n",
        "  loss_train.append(loss.item())\n",
        "\n",
        "  Y_pred = torch.argmax(Y_pred, 1)\n",
        "  f1_train.append( f1_score(Y_train,Y_pred, average='macro') )\n",
        "  \n",
        "  acc = sum(Y_train == Y_pred)/len(Y_pred)\n",
        "  acc_train.append(acc)\n",
        "\n",
        "  optimizer.zero_grad()\n",
        "  loss.backward()\n",
        "  optimizer.step()\n",
        "\n",
        "  print( 'Epoch [{}/{}], loss: {}. f1:{} acc: {} '.format(epoch+1,n_epoch,loss_train[-1], f1_train[-1], acc_train[-1]) )\n",
        "\n",
        "  model.eval()\n",
        "  Xvl = X_valid.view(X_valid.size(0), -1)\n",
        "  Y_pred = model(Xvl)  \n",
        "  loss = criterion(Y_pred,Y_valid)\n",
        "  loss_valid.append(loss.item())\n",
        "\n",
        "  Y_pred = torch.argmax(Y_pred, 1)\n",
        "  f1_valid.append( f1_score(Y_valid, Y_pred, average='macro') )\n",
        "\n",
        "  acc = sum(Y_valid == Y_pred)/len(Y_pred)\n",
        "  acc_valid.append(acc)"
      ],
      "execution_count": null,
      "outputs": []
    },
    {
      "cell_type": "code",
      "metadata": {
        "colab": {
          "base_uri": "https://localhost:8080/",
          "height": 335
        },
        "id": "TJklDTLndYvd",
        "outputId": "df7dfff5-348b-4f3b-fa08-7207e1d9e267"
      },
      "source": [
        "#-- Visualizamos las curvas de entrenamiento y validación\n",
        "\n",
        "fig = plt.figure(figsize=(15,5))\n",
        "plt.subplot(1,3,1)\n",
        "plt.plot(range(n_epoch), loss_train, label='train')\n",
        "plt.plot(range(n_epoch), loss_valid, label='valid')\n",
        "plt.xlabel('n_epoch')\n",
        "plt.ylabel('loss')\n",
        "plt.legend()\n",
        "plt.grid()\n",
        "plt.subplot(1,3,2)\n",
        "plt.plot(range(n_epoch), f1_train, label='train')\n",
        "plt.plot(range(n_epoch), f1_valid, label='valid')\n",
        "plt.xlabel('n_epoch')\n",
        "plt.ylabel('f1_score')\n",
        "plt.legend()\n",
        "plt.grid()\n",
        "plt.subplot(1,3,3)\n",
        "plt.plot(range(n_epoch), acc_train, label='train')\n",
        "plt.plot(range(n_epoch), acc_valid, label='valid')\n",
        "plt.xlabel('n_epoch')\n",
        "plt.ylabel('accuracy')\n",
        "plt.legend()\n",
        "plt.grid()\n",
        "\n",
        "plt.savefig('./curves_ok.png', bbox_inches='tight')\n",
        "plt.show()"
      ],
      "execution_count": 37,
      "outputs": [
        {
          "output_type": "display_data",
          "data": {
            "image/png": "[encoded data removed]",
            "text/plain": [
              "<Figure size 1080x360 with 3 Axes>"
            ]
          },
          "metadata": {
            "needs_background": "light"
          }
        }
      ]
    },
    {
      "cell_type": "code",
      "metadata": {
        "colab": {
          "base_uri": "https://localhost:8080/"
        },
        "id": "wzP1FNxRdgBM",
        "outputId": "7ab08515-e67a-49d5-9137-a2e2195ee4eb"
      },
      "source": [
        "#-- Evaluamos el modelo entrenado con el set de testeo\n",
        "\n",
        "model.eval()\n",
        "\n",
        "Xts = X_test.view(X_test.size(0), -1)\n",
        "Y_pred = model(Xts)  \n",
        "loss = criterion(Y_pred,Y_test)\n",
        "\n",
        "Y_pred = torch.argmax(Y_pred, 1)\n",
        "f1 = f1_score(Y_test, Y_pred, average='macro')\n",
        "\n",
        "acc = sum(Y_test == Y_pred)/len(Y_pred)\n",
        "\n",
        "print('loss: {}, f1: {}, acc: {}'.format(loss.item(), f1, acc))"
      ],
      "execution_count": 38,
      "outputs": [
        {
          "output_type": "stream",
          "text": [
            "loss: 0.4755757451057434, f1: 0.8873065823168407, acc: 0.8881048560142517\n"
          ],
          "name": "stdout"
        }
      ]
    },
    {
      "cell_type": "markdown",
      "metadata": {
        "id": "ZnZK-_qgdhtU"
      },
      "source": [
        "Para train 80% y valid 100%"
      ]
    },
    {
      "cell_type": "code",
      "metadata": {
        "id": "43LNqtqpdky7"
      },
      "source": [
        "from PIL import Image\n",
        "\n",
        "N_train = len(train_files80)\n",
        "X_train = []\n",
        "Y_train = []\n",
        "\n",
        "for i, train_file in enumerate(train_files80):\n",
        "  Y_train.append( int(train_file.split('/')[3]) )\n",
        "  X_train.append(np.array(Image.open(train_file)))\n",
        "\n",
        "\n",
        "N_valid = len(valid_files)\n",
        "X_valid = []\n",
        "Y_valid = []\n",
        "\n",
        "for i, valid_file in enumerate(valid_files):\n",
        "  Y_valid.append( int(valid_file.split('/')[3]) )\n",
        "  X_valid.append( np.array(Image.open(valid_file)) )\n",
        "\n",
        "N_test = len(test_files)\n",
        "X_test = []\n",
        "Y_test = []\n",
        "\n",
        "for i, test_file in enumerate(test_files):\n",
        "  Y_test.append( int(test_file.split('/')[3]) )\n",
        "  X_test.append( np.array(Image.open(test_file)) )\n",
        "\n",
        "#--- Convertimos las listas de datos a tensores de torch\n",
        "import torch\n",
        "from torch.autograd import Variable\n",
        "\n",
        "X_train = Variable(torch.from_numpy(np.array(X_train))).float()\n",
        "Y_train = Variable(torch.from_numpy(np.array(Y_train))).long()\n",
        "\n",
        "X_valid = Variable(torch.from_numpy(np.array(X_valid))).float()\n",
        "Y_valid = Variable(torch.from_numpy(np.array(Y_valid))).long()\n",
        "\n",
        "X_test = Variable(torch.from_numpy(np.array(X_test))).float()\n",
        "Y_test = Variable(torch.from_numpy(np.array(Y_test))).long()\n",
        "\n",
        "X_train.data.size()\n",
        "\n",
        "#--- Definimos una ANN con dos capas ocultas lineales de 100 neuronas\n",
        "\n",
        "input_dim = 28*28\n",
        "out_dim = 10\n",
        "hidden = 50\n",
        "\n",
        "model = torch.nn.Sequential(\n",
        "  torch.nn.Linear(input_dim, hidden),\n",
        "  torch.nn.ReLU(),  \n",
        "  torch.nn.Linear(hidden, hidden),\n",
        "  torch.nn.ReLU(),       \n",
        "  torch.nn.Linear(hidden, out_dim)\n",
        ")\n",
        "optimizer = torch.optim.Adam(model.parameters())\n",
        "criterion = torch.nn.CrossEntropyLoss()"
      ],
      "execution_count": 39,
      "outputs": []
    },
    {
      "cell_type": "code",
      "metadata": {
        "id": "TyIvGnHtdwoI"
      },
      "source": [
        "from sklearn.metrics import f1_score # Nueva métrica (La revisaremos la próóxima sesión)\n",
        "\n",
        "#-- Número de épocas\n",
        "n_epoch = 100\n",
        "\n",
        "#-- Listas de evaluación entrenamiento\n",
        "loss_train = []\n",
        "f1_train = []\n",
        "acc_train = []\n",
        "\n",
        "#-- Listas de evaluación validación\n",
        "loss_valid = []\n",
        "f1_valid = []\n",
        "acc_valid = []\n",
        "\n",
        "#-- Entrenamineto de la ANN\n",
        "for epoch in range(n_epoch):\n",
        "  model.train()\n",
        "  \n",
        "  Xtr = X_train.view(X_train.size(0), -1)\n",
        "  Y_pred = model(Xtr)\n",
        "\n",
        "  loss = criterion(Y_pred,Y_train)\n",
        "  loss_train.append(loss.item())\n",
        "\n",
        "  Y_pred = torch.argmax(Y_pred, 1)\n",
        "  f1_train.append( f1_score(Y_train,Y_pred, average='macro') )\n",
        "  \n",
        "  acc = sum(Y_train == Y_pred)/len(Y_pred)\n",
        "  acc_train.append(acc)\n",
        "\n",
        "  optimizer.zero_grad()\n",
        "  loss.backward()\n",
        "  optimizer.step()\n",
        "\n",
        "  print( 'Epoch [{}/{}], loss: {}. f1:{} acc: {} '.format(epoch+1,n_epoch,loss_train[-1], f1_train[-1], acc_train[-1]) )\n",
        "\n",
        "  model.eval()\n",
        "  Xvl = X_valid.view(X_valid.size(0), -1)\n",
        "  Y_pred = model(Xvl)  \n",
        "  loss = criterion(Y_pred,Y_valid)\n",
        "  loss_valid.append(loss.item())\n",
        "\n",
        "  Y_pred = torch.argmax(Y_pred, 1)\n",
        "  f1_valid.append( f1_score(Y_valid, Y_pred, average='macro') )\n",
        "\n",
        "  acc = sum(Y_valid == Y_pred)/len(Y_pred)\n",
        "  acc_valid.append(acc)"
      ],
      "execution_count": null,
      "outputs": []
    },
    {
      "cell_type": "code",
      "metadata": {
        "colab": {
          "base_uri": "https://localhost:8080/",
          "height": 335
        },
        "id": "uzuY_uuPd6G9",
        "outputId": "93cd672f-eb6f-4da5-d97c-505cd9b0ff44"
      },
      "source": [
        "#-- Visualizamos las curvas de entrenamiento y validación\n",
        "\n",
        "fig = plt.figure(figsize=(15,5))\n",
        "plt.subplot(1,3,1)\n",
        "plt.plot(range(n_epoch), loss_train, label='train')\n",
        "plt.plot(range(n_epoch), loss_valid, label='valid')\n",
        "plt.xlabel('n_epoch')\n",
        "plt.ylabel('loss')\n",
        "plt.legend()\n",
        "plt.grid()\n",
        "plt.subplot(1,3,2)\n",
        "plt.plot(range(n_epoch), f1_train, label='train')\n",
        "plt.plot(range(n_epoch), f1_valid, label='valid')\n",
        "plt.xlabel('n_epoch')\n",
        "plt.ylabel('f1_score')\n",
        "plt.legend()\n",
        "plt.grid()\n",
        "plt.subplot(1,3,3)\n",
        "plt.plot(range(n_epoch), acc_train, label='train')\n",
        "plt.plot(range(n_epoch), acc_valid, label='valid')\n",
        "plt.xlabel('n_epoch')\n",
        "plt.ylabel('accuracy')\n",
        "plt.legend()\n",
        "plt.grid()\n",
        "\n",
        "plt.savefig('./curves_ok.png', bbox_inches='tight')\n",
        "plt.show()"
      ],
      "execution_count": 41,
      "outputs": [
        {
          "output_type": "display_data",
          "data": {
            "image/png": "[encoded data removed]",
            "text/plain": [
              "<Figure size 1080x360 with 3 Axes>"
            ]
          },
          "metadata": {
            "needs_background": "light"
          }
        }
      ]
    },
    {
      "cell_type": "code",
      "metadata": {
        "colab": {
          "base_uri": "https://localhost:8080/"
        },
        "id": "ax7s4P3zeMeA",
        "outputId": "431cd621-c6da-4710-b799-9f7186e09773"
      },
      "source": [
        "#-- Evaluamos el modelo entrenado con el set de testeo\n",
        "\n",
        "model.eval()\n",
        "\n",
        "Xts = X_test.view(X_test.size(0), -1)\n",
        "Y_pred = model(Xts)  \n",
        "loss = criterion(Y_pred,Y_test)\n",
        "\n",
        "Y_pred = torch.argmax(Y_pred, 1)\n",
        "f1 = f1_score(Y_test, Y_pred, average='macro')\n",
        "\n",
        "acc = sum(Y_test == Y_pred)/len(Y_pred)\n",
        "\n",
        "print('loss: {}, f1: {}, acc: {}'.format(loss.item(), f1, acc))"
      ],
      "execution_count": 42,
      "outputs": [
        {
          "output_type": "stream",
          "text": [
            "loss: 0.3933998942375183, f1: 0.8864189568638026, acc: 0.8870967626571655\n"
          ],
          "name": "stdout"
        }
      ]
    },
    {
      "cell_type": "markdown",
      "metadata": {
        "id": "M6cn6ukOeUZ7"
      },
      "source": [
        "Análisis teniendo en cuenta el cambio de porcentaje en los tamaños de entrenamiento. \n",
        "\n",
        "\n",
        "\n",
        "*   A primera vista, se puede ver como a medida que se usa un porcentaje mayor de entrenamiento el acc es más alto. Por ejemplo para 10% fue: 0.82 y para 80% fue:  0.887; y los valores para el loss fue 1.8 y 0.39 correspondiente. Lo que también afirma que es mejor usar un porcentaje grande de entrenamiento. \n",
        "*   Esto afirma que es bueno usar muchos datos de entrenamiento. Aunque deja en cuestión que la diferencia en el ACC no es mucha. ¿A qué se le atribuir esto?, tal vez el modelo de ANN utilizado.  \n",
        "\n"
      ]
    },
    {
      "cell_type": "code",
      "metadata": {
        "id": "b524H4mFfrrd"
      },
      "source": [
        ""
      ],
      "execution_count": null,
      "outputs": []
    },
    {
      "cell_type": "markdown",
      "metadata": {
        "id": "f6ns5cuWfzdd"
      },
      "source": [
        "**Cambiando el tamaño de validación**\n",
        "\n",
        "- cabe resaltar que el de valid 100% y train. 100% se encuentra al inicio"
      ]
    },
    {
      "cell_type": "code",
      "metadata": {
        "colab": {
          "base_uri": "https://localhost:8080/"
        },
        "id": "84PKgKW-f40n",
        "outputId": "15a8da8f-8d55-439c-bb3b-9958dea6a08d"
      },
      "source": [
        "valid_files10 = train_files[:200]\n",
        "print(len(valid_files10))\n",
        "valid_files20 = train_files[:400]\n",
        "print(len(valid_files20))\n",
        "valid_files50 = train_files[:1000]\n",
        "print(len(valid_files50))\n",
        "valid_files80 = train_files[:1600]\n",
        "print(len(valid_files80))\n"
      ],
      "execution_count": 43,
      "outputs": [
        {
          "output_type": "stream",
          "text": [
            "200\n",
            "400\n",
            "1000\n",
            "1600\n"
          ],
          "name": "stdout"
        }
      ]
    },
    {
      "cell_type": "markdown",
      "metadata": {
        "id": "nYRgATqCggOp"
      },
      "source": [
        "train 100% y valid 10%"
      ]
    },
    {
      "cell_type": "code",
      "metadata": {
        "id": "ZwMPp0AJgxP2"
      },
      "source": [
        "from PIL import Image\n",
        "\n",
        "N_train = len(train_files)\n",
        "X_train = []\n",
        "Y_train = []\n",
        "\n",
        "for i, train_file in enumerate(train_files):\n",
        "  Y_train.append( int(train_file.split('/')[3]) )\n",
        "  X_train.append(np.array(Image.open(train_file)))\n",
        "\n",
        "\n",
        "N_valid = len(valid_files10)\n",
        "X_valid = []\n",
        "Y_valid = []\n",
        "\n",
        "for i, valid_file in enumerate(valid_files10):\n",
        "  Y_valid.append( int(valid_file.split('/')[3]) )\n",
        "  X_valid.append( np.array(Image.open(valid_file)) )\n",
        "\n",
        "N_test = len(test_files)\n",
        "X_test = []\n",
        "Y_test = []\n",
        "\n",
        "for i, test_file in enumerate(test_files):\n",
        "  Y_test.append( int(test_file.split('/')[3]) )\n",
        "  X_test.append( np.array(Image.open(test_file)) )\n",
        "\n",
        "#--- Convertimos las listas de datos a tensores de torch\n",
        "import torch\n",
        "from torch.autograd import Variable\n",
        "\n",
        "X_train = Variable(torch.from_numpy(np.array(X_train))).float()\n",
        "Y_train = Variable(torch.from_numpy(np.array(Y_train))).long()\n",
        "\n",
        "X_valid = Variable(torch.from_numpy(np.array(X_valid))).float()\n",
        "Y_valid = Variable(torch.from_numpy(np.array(Y_valid))).long()\n",
        "\n",
        "X_test = Variable(torch.from_numpy(np.array(X_test))).float()\n",
        "Y_test = Variable(torch.from_numpy(np.array(Y_test))).long()\n",
        "\n",
        "X_train.data.size()\n",
        "\n",
        "#--- Definimos una ANN con dos capas ocultas lineales de 100 neuronas\n",
        "\n",
        "input_dim = 28*28\n",
        "out_dim = 10\n",
        "hidden = 50\n",
        "\n",
        "model = torch.nn.Sequential(\n",
        "  torch.nn.Linear(input_dim, hidden),\n",
        "  torch.nn.ReLU(),  \n",
        "  torch.nn.Linear(hidden, hidden),\n",
        "  torch.nn.ReLU(),       \n",
        "  torch.nn.Linear(hidden, out_dim)\n",
        ")\n",
        "optimizer = torch.optim.Adam(model.parameters())\n",
        "criterion = torch.nn.CrossEntropyLoss()"
      ],
      "execution_count": 46,
      "outputs": []
    },
    {
      "cell_type": "code",
      "metadata": {
        "id": "G5-U9eRehZV8"
      },
      "source": [
        "from sklearn.metrics import f1_score # Nueva métrica (La revisaremos la próóxima sesión)\n",
        "\n",
        "#-- Número de épocas\n",
        "n_epoch = 100\n",
        "\n",
        "#-- Listas de evaluación entrenamiento\n",
        "loss_train = []\n",
        "f1_train = []\n",
        "acc_train = []\n",
        "\n",
        "#-- Listas de evaluación validación\n",
        "loss_valid = []\n",
        "f1_valid = []\n",
        "acc_valid = []\n",
        "\n",
        "#-- Entrenamineto de la ANN\n",
        "for epoch in range(n_epoch):\n",
        "  model.train()\n",
        "  \n",
        "  Xtr = X_train.view(X_train.size(0), -1)\n",
        "  Y_pred = model(Xtr)\n",
        "\n",
        "  loss = criterion(Y_pred,Y_train)\n",
        "  loss_train.append(loss.item())\n",
        "\n",
        "  Y_pred = torch.argmax(Y_pred, 1)\n",
        "  f1_train.append( f1_score(Y_train,Y_pred, average='macro') )\n",
        "  \n",
        "  acc = sum(Y_train == Y_pred)/len(Y_pred)\n",
        "  acc_train.append(acc)\n",
        "\n",
        "  optimizer.zero_grad()\n",
        "  loss.backward()\n",
        "  optimizer.step()\n",
        "\n",
        "  print( 'Epoch [{}/{}], loss: {}. f1:{} acc: {} '.format(epoch+1,n_epoch,loss_train[-1], f1_train[-1], acc_train[-1]) )\n",
        "\n",
        "  model.eval()\n",
        "  Xvl = X_valid.view(X_valid.size(0), -1)\n",
        "  Y_pred = model(Xvl)  \n",
        "  loss = criterion(Y_pred,Y_valid)\n",
        "  loss_valid.append(loss.item())\n",
        "\n",
        "  Y_pred = torch.argmax(Y_pred, 1)\n",
        "  f1_valid.append( f1_score(Y_valid, Y_pred, average='macro') )\n",
        "\n",
        "  acc = sum(Y_valid == Y_pred)/len(Y_pred)\n",
        "  acc_valid.append(acc)"
      ],
      "execution_count": null,
      "outputs": []
    },
    {
      "cell_type": "code",
      "metadata": {
        "colab": {
          "base_uri": "https://localhost:8080/",
          "height": 336
        },
        "id": "IlxrJQBohefw",
        "outputId": "e9506e90-de30-4e8a-f4a7-67548828129b"
      },
      "source": [
        "#-- Visualizamos las curvas de entrenamiento y validación\n",
        "\n",
        "fig = plt.figure(figsize=(15,5))\n",
        "plt.subplot(1,3,1)\n",
        "plt.plot(range(n_epoch), loss_train, label='train')\n",
        "plt.plot(range(n_epoch), loss_valid, label='valid')\n",
        "plt.xlabel('n_epoch')\n",
        "plt.ylabel('loss')\n",
        "plt.legend()\n",
        "plt.grid()\n",
        "plt.subplot(1,3,2)\n",
        "plt.plot(range(n_epoch), f1_train, label='train')\n",
        "plt.plot(range(n_epoch), f1_valid, label='valid')\n",
        "plt.xlabel('n_epoch')\n",
        "plt.ylabel('f1_score')\n",
        "plt.legend()\n",
        "plt.grid()\n",
        "plt.subplot(1,3,3)\n",
        "plt.plot(range(n_epoch), acc_train, label='train')\n",
        "plt.plot(range(n_epoch), acc_valid, label='valid')\n",
        "plt.xlabel('n_epoch')\n",
        "plt.ylabel('accuracy')\n",
        "plt.legend()\n",
        "plt.grid()\n",
        "\n",
        "plt.savefig('./curves_ok.png', bbox_inches='tight')\n",
        "plt.show()"
      ],
      "execution_count": 48,
      "outputs": [
        {
          "output_type": "display_data",
          "data": {
            "image/png": "[encoded data removed]",
            "text/plain": [
              "<Figure size 1080x360 with 3 Axes>"
            ]
          },
          "metadata": {
            "needs_background": "light"
          }
        }
      ]
    },
    {
      "cell_type": "code",
      "metadata": {
        "colab": {
          "base_uri": "https://localhost:8080/"
        },
        "id": "OpOKF2CahmPJ",
        "outputId": "ab224dae-4fbf-4e4c-e7af-5ba143299dd2"
      },
      "source": [
        "#-- Evaluamos el modelo entrenado con el set de testeo\n",
        "\n",
        "model.eval()\n",
        "\n",
        "Xts = X_test.view(X_test.size(0), -1)\n",
        "Y_pred = model(Xts)  \n",
        "loss = criterion(Y_pred,Y_test)\n",
        "\n",
        "Y_pred = torch.argmax(Y_pred, 1)\n",
        "f1 = f1_score(Y_test, Y_pred, average='macro')\n",
        "\n",
        "acc = sum(Y_test == Y_pred)/len(Y_pred)\n",
        "\n",
        "print('loss: {}, f1: {}, acc: {}'.format(loss.item(), f1, acc))\n"
      ],
      "execution_count": 49,
      "outputs": [
        {
          "output_type": "stream",
          "text": [
            "loss: 0.3527073264122009, f1: 0.9064781909677218, acc: 0.90625\n"
          ],
          "name": "stdout"
        }
      ]
    },
    {
      "cell_type": "markdown",
      "metadata": {
        "id": "oKXMA3Rdhold"
      },
      "source": [
        "Para valid 20% y train 100%"
      ]
    },
    {
      "cell_type": "code",
      "metadata": {
        "id": "HOi2TeQ1hr_x"
      },
      "source": [
        "from PIL import Image\n",
        "\n",
        "N_train = len(train_files)\n",
        "X_train = []\n",
        "Y_train = []\n",
        "\n",
        "for i, train_file in enumerate(train_files):\n",
        "  Y_train.append( int(train_file.split('/')[3]) )\n",
        "  X_train.append(np.array(Image.open(train_file)))\n",
        "\n",
        "\n",
        "N_valid = len(valid_files20)\n",
        "X_valid = []\n",
        "Y_valid = []\n",
        "\n",
        "for i, valid_file in enumerate(valid_files20):\n",
        "  Y_valid.append( int(valid_file.split('/')[3]) )\n",
        "  X_valid.append( np.array(Image.open(valid_file)) )\n",
        "\n",
        "N_test = len(test_files)\n",
        "X_test = []\n",
        "Y_test = []\n",
        "\n",
        "for i, test_file in enumerate(test_files):\n",
        "  Y_test.append( int(test_file.split('/')[3]) )\n",
        "  X_test.append( np.array(Image.open(test_file)) )\n",
        "\n",
        "#--- Convertimos las listas de datos a tensores de torch\n",
        "import torch\n",
        "from torch.autograd import Variable\n",
        "\n",
        "X_train = Variable(torch.from_numpy(np.array(X_train))).float()\n",
        "Y_train = Variable(torch.from_numpy(np.array(Y_train))).long()\n",
        "\n",
        "X_valid = Variable(torch.from_numpy(np.array(X_valid))).float()\n",
        "Y_valid = Variable(torch.from_numpy(np.array(Y_valid))).long()\n",
        "\n",
        "X_test = Variable(torch.from_numpy(np.array(X_test))).float()\n",
        "Y_test = Variable(torch.from_numpy(np.array(Y_test))).long()\n",
        "\n",
        "X_train.data.size()\n",
        "\n",
        "#--- Definimos una ANN con dos capas ocultas lineales de 100 neuronas\n",
        "\n",
        "input_dim = 28*28\n",
        "out_dim = 10\n",
        "hidden = 50\n",
        "\n",
        "model = torch.nn.Sequential(\n",
        "  torch.nn.Linear(input_dim, hidden),\n",
        "  torch.nn.ReLU(),  \n",
        "  torch.nn.Linear(hidden, hidden),\n",
        "  torch.nn.ReLU(),       \n",
        "  torch.nn.Linear(hidden, out_dim)\n",
        ")\n",
        "optimizer = torch.optim.Adam(model.parameters())\n",
        "criterion = torch.nn.CrossEntropyLoss()\n",
        "\n",
        "from sklearn.metrics import f1_score # Nueva métrica (La revisaremos la próóxima sesión)\n",
        "\n",
        "#-- Número de épocas\n",
        "n_epoch = 100\n",
        "\n",
        "#-- Listas de evaluación entrenamiento\n",
        "loss_train = []\n",
        "f1_train = []\n",
        "acc_train = []\n",
        "\n",
        "#-- Listas de evaluación validación\n",
        "loss_valid = []\n",
        "f1_valid = []\n",
        "acc_valid = []\n",
        "\n",
        "#-- Entrenamineto de la ANN\n",
        "for epoch in range(n_epoch):\n",
        "  model.train()\n",
        "  \n",
        "  Xtr = X_train.view(X_train.size(0), -1)\n",
        "  Y_pred = model(Xtr)\n",
        "\n",
        "  loss = criterion(Y_pred,Y_train)\n",
        "  loss_train.append(loss.item())\n",
        "\n",
        "  Y_pred = torch.argmax(Y_pred, 1)\n",
        "  f1_train.append( f1_score(Y_train,Y_pred, average='macro') )\n",
        "  \n",
        "  acc = sum(Y_train == Y_pred)/len(Y_pred)\n",
        "  acc_train.append(acc)\n",
        "\n",
        "  optimizer.zero_grad()\n",
        "  loss.backward()\n",
        "  optimizer.step()\n",
        "\n",
        "  print( 'Epoch [{}/{}], loss: {}. f1:{} acc: {} '.format(epoch+1,n_epoch,loss_train[-1], f1_train[-1], acc_train[-1]) )\n",
        "\n",
        "  model.eval()\n",
        "  Xvl = X_valid.view(X_valid.size(0), -1)\n",
        "  Y_pred = model(Xvl)  \n",
        "  loss = criterion(Y_pred,Y_valid)\n",
        "  loss_valid.append(loss.item())\n",
        "\n",
        "  Y_pred = torch.argmax(Y_pred, 1)\n",
        "  f1_valid.append( f1_score(Y_valid, Y_pred, average='macro') )\n",
        "\n",
        "  acc = sum(Y_valid == Y_pred)/len(Y_pred)\n",
        "  acc_valid.append(acc)"
      ],
      "execution_count": null,
      "outputs": []
    },
    {
      "cell_type": "code",
      "metadata": {
        "colab": {
          "base_uri": "https://localhost:8080/",
          "height": 338
        },
        "id": "am-N_Bhrhvzg",
        "outputId": "82ee5ae8-95c6-42f0-8019-50c8fe8e24c4"
      },
      "source": [
        "#-- Visualizamos las curvas de entrenamiento y validación\n",
        "\n",
        "fig = plt.figure(figsize=(15,5))\n",
        "plt.subplot(1,3,1)\n",
        "plt.plot(range(n_epoch), loss_train, label='train')\n",
        "plt.plot(range(n_epoch), loss_valid, label='valid')\n",
        "plt.xlabel('n_epoch')\n",
        "plt.ylabel('loss')\n",
        "plt.legend()\n",
        "plt.grid()\n",
        "plt.subplot(1,3,2)\n",
        "plt.plot(range(n_epoch), f1_train, label='train')\n",
        "plt.plot(range(n_epoch), f1_valid, label='valid')\n",
        "plt.xlabel('n_epoch')\n",
        "plt.ylabel('f1_score')\n",
        "plt.legend()\n",
        "plt.grid()\n",
        "plt.subplot(1,3,3)\n",
        "plt.plot(range(n_epoch), acc_train, label='train')\n",
        "plt.plot(range(n_epoch), acc_valid, label='valid')\n",
        "plt.xlabel('n_epoch')\n",
        "plt.ylabel('accuracy')\n",
        "plt.legend()\n",
        "plt.grid()\n",
        "\n",
        "plt.savefig('./curves_ok.png', bbox_inches='tight')\n",
        "plt.show()"
      ],
      "execution_count": 52,
      "outputs": [
        {
          "output_type": "display_data",
          "data": {
            "image/png": "[encoded data removed]",
            "text/plain": [
              "<Figure size 1080x360 with 3 Axes>"
            ]
          },
          "metadata": {
            "needs_background": "light"
          }
        }
      ]
    },
    {
      "cell_type": "code",
      "metadata": {
        "colab": {
          "base_uri": "https://localhost:8080/"
        },
        "id": "HGA66jj9h__h",
        "outputId": "4b93a7b3-b17b-4622-9105-cb03566d0a76"
      },
      "source": [
        "#-- Evaluamos el modelo entrenado con el set de testeo\n",
        "\n",
        "model.eval()\n",
        "\n",
        "Xts = X_test.view(X_test.size(0), -1)\n",
        "Y_pred = model(Xts)  \n",
        "loss = criterion(Y_pred,Y_test)\n",
        "\n",
        "Y_pred = torch.argmax(Y_pred, 1)\n",
        "f1 = f1_score(Y_test, Y_pred, average='macro')\n",
        "\n",
        "acc = sum(Y_test == Y_pred)/len(Y_pred)\n",
        "\n",
        "print('loss: {}, f1: {}, acc: {}'.format(loss.item(), f1, acc))\n"
      ],
      "execution_count": 61,
      "outputs": [
        {
          "output_type": "stream",
          "text": [
            "loss: 0.3435595631599426, f1: 0.9008734105579748, acc: 0.9012096524238586\n"
          ],
          "name": "stdout"
        }
      ]
    },
    {
      "cell_type": "markdown",
      "metadata": {
        "id": "8KWrnInZiB3R"
      },
      "source": [
        "Para train 100% y valid 50%"
      ]
    },
    {
      "cell_type": "code",
      "metadata": {
        "id": "mpXxxptpiEqj"
      },
      "source": [
        "from PIL import Image\n",
        "\n",
        "N_train = len(train_files)\n",
        "X_train = []\n",
        "Y_train = []\n",
        "\n",
        "for i, train_file in enumerate(train_files):\n",
        "  Y_train.append( int(train_file.split('/')[3]) )\n",
        "  X_train.append(np.array(Image.open(train_file)))\n",
        "\n",
        "\n",
        "N_valid = len(valid_files50)\n",
        "X_valid = []\n",
        "Y_valid = []\n",
        "\n",
        "for i, valid_file in enumerate(valid_files50):\n",
        "  Y_valid.append( int(valid_file.split('/')[3]) )\n",
        "  X_valid.append( np.array(Image.open(valid_file)) )\n",
        "\n",
        "N_test = len(test_files)\n",
        "X_test = []\n",
        "Y_test = []\n",
        "\n",
        "for i, test_file in enumerate(test_files):\n",
        "  Y_test.append( int(test_file.split('/')[3]) )\n",
        "  X_test.append( np.array(Image.open(test_file)) )\n",
        "\n",
        "#--- Convertimos las listas de datos a tensores de torch\n",
        "import torch\n",
        "from torch.autograd import Variable\n",
        "\n",
        "X_train = Variable(torch.from_numpy(np.array(X_train))).float()\n",
        "Y_train = Variable(torch.from_numpy(np.array(Y_train))).long()\n",
        "\n",
        "X_valid = Variable(torch.from_numpy(np.array(X_valid))).float()\n",
        "Y_valid = Variable(torch.from_numpy(np.array(Y_valid))).long()\n",
        "\n",
        "X_test = Variable(torch.from_numpy(np.array(X_test))).float()\n",
        "Y_test = Variable(torch.from_numpy(np.array(Y_test))).long()\n",
        "\n",
        "X_train.data.size()\n",
        "\n",
        "#--- Definimos una ANN con dos capas ocultas lineales de 100 neuronas\n",
        "\n",
        "input_dim = 28*28\n",
        "out_dim = 10\n",
        "hidden = 50\n",
        "\n",
        "model = torch.nn.Sequential(\n",
        "  torch.nn.Linear(input_dim, hidden),\n",
        "  torch.nn.ReLU(),  \n",
        "  torch.nn.Linear(hidden, hidden),\n",
        "  torch.nn.ReLU(),       \n",
        "  torch.nn.Linear(hidden, out_dim)\n",
        ")\n",
        "optimizer = torch.optim.Adam(model.parameters())\n",
        "criterion = torch.nn.CrossEntropyLoss()\n",
        "\n",
        "from sklearn.metrics import f1_score # Nueva métrica (La revisaremos la próóxima sesión)\n",
        "\n",
        "#-- Número de épocas\n",
        "n_epoch = 100\n",
        "\n",
        "#-- Listas de evaluación entrenamiento\n",
        "loss_train = []\n",
        "f1_train = []\n",
        "acc_train = []\n",
        "\n",
        "#-- Listas de evaluación validación\n",
        "loss_valid = []\n",
        "f1_valid = []\n",
        "acc_valid = []\n",
        "\n",
        "#-- Entrenamineto de la ANN\n",
        "for epoch in range(n_epoch):\n",
        "  model.train()\n",
        "  \n",
        "  Xtr = X_train.view(X_train.size(0), -1)\n",
        "  Y_pred = model(Xtr)\n",
        "\n",
        "  loss = criterion(Y_pred,Y_train)\n",
        "  loss_train.append(loss.item())\n",
        "\n",
        "  Y_pred = torch.argmax(Y_pred, 1)\n",
        "  f1_train.append( f1_score(Y_train,Y_pred, average='macro') )\n",
        "  \n",
        "  acc = sum(Y_train == Y_pred)/len(Y_pred)\n",
        "  acc_train.append(acc)\n",
        "\n",
        "  optimizer.zero_grad()\n",
        "  loss.backward()\n",
        "  optimizer.step()\n",
        "\n",
        "  print( 'Epoch [{}/{}], loss: {}. f1:{} acc: {} '.format(epoch+1,n_epoch,loss_train[-1], f1_train[-1], acc_train[-1]) )\n",
        "\n",
        "  model.eval()\n",
        "  Xvl = X_valid.view(X_valid.size(0), -1)\n",
        "  Y_pred = model(Xvl)  \n",
        "  loss = criterion(Y_pred,Y_valid)\n",
        "  loss_valid.append(loss.item())\n",
        "\n",
        "  Y_pred = torch.argmax(Y_pred, 1)\n",
        "  f1_valid.append( f1_score(Y_valid, Y_pred, average='macro') )\n",
        "\n",
        "  acc = sum(Y_valid == Y_pred)/len(Y_pred)\n",
        "  acc_valid.append(acc)"
      ],
      "execution_count": null,
      "outputs": []
    },
    {
      "cell_type": "code",
      "metadata": {
        "colab": {
          "base_uri": "https://localhost:8080/",
          "height": 335
        },
        "id": "l0pUMGBQiiTr",
        "outputId": "b0da3571-1ca5-4e6b-946e-4858c367c180"
      },
      "source": [
        "#-- Visualizamos las curvas de entrenamiento y validación\n",
        "\n",
        "fig = plt.figure(figsize=(15,5))\n",
        "plt.subplot(1,3,1)\n",
        "plt.plot(range(n_epoch), loss_train, label='train')\n",
        "plt.plot(range(n_epoch), loss_valid, label='valid')\n",
        "plt.xlabel('n_epoch')\n",
        "plt.ylabel('loss')\n",
        "plt.legend()\n",
        "plt.grid()\n",
        "plt.subplot(1,3,2)\n",
        "plt.plot(range(n_epoch), f1_train, label='train')\n",
        "plt.plot(range(n_epoch), f1_valid, label='valid')\n",
        "plt.xlabel('n_epoch')\n",
        "plt.ylabel('f1_score')\n",
        "plt.legend()\n",
        "plt.grid()\n",
        "plt.subplot(1,3,3)\n",
        "plt.plot(range(n_epoch), acc_train, label='train')\n",
        "plt.plot(range(n_epoch), acc_valid, label='valid')\n",
        "plt.xlabel('n_epoch')\n",
        "plt.ylabel('accuracy')\n",
        "plt.legend()\n",
        "plt.grid()\n",
        "\n",
        "plt.savefig('./curves_ok.png', bbox_inches='tight')\n",
        "plt.show()"
      ],
      "execution_count": 55,
      "outputs": [
        {
          "output_type": "display_data",
          "data": {
            "image/png": "[encoded data removed]",
            "text/plain": [
              "<Figure size 1080x360 with 3 Axes>"
            ]
          },
          "metadata": {
            "needs_background": "light"
          }
        }
      ]
    },
    {
      "cell_type": "code",
      "metadata": {
        "colab": {
          "base_uri": "https://localhost:8080/"
        },
        "id": "77oxiNIFioJd",
        "outputId": "5c888fa7-4497-48ee-cc64-2a76e620b556"
      },
      "source": [
        "#-- Evaluamos el modelo entrenado con el set de testeo\n",
        "\n",
        "model.eval()\n",
        "\n",
        "Xts = X_test.view(X_test.size(0), -1)\n",
        "Y_pred = model(Xts)  \n",
        "loss = criterion(Y_pred,Y_test)\n",
        "\n",
        "Y_pred = torch.argmax(Y_pred, 1)\n",
        "f1 = f1_score(Y_test, Y_pred, average='macro')\n",
        "\n",
        "acc = sum(Y_test == Y_pred)/len(Y_pred)\n",
        "\n",
        "print('loss: {}, f1: {}, acc: {}'.format(loss.item(), f1, acc))\n"
      ],
      "execution_count": 62,
      "outputs": [
        {
          "output_type": "stream",
          "text": [
            "loss: 0.3435595631599426, f1: 0.9008734105579748, acc: 0.9012096524238586\n"
          ],
          "name": "stdout"
        }
      ]
    },
    {
      "cell_type": "markdown",
      "metadata": {
        "id": "JG2r9iaUirq4"
      },
      "source": [
        "Para train 100 y valid 80"
      ]
    },
    {
      "cell_type": "code",
      "metadata": {
        "id": "AX6BAIIGitwL"
      },
      "source": [
        "from PIL import Image\n",
        "\n",
        "N_train = len(train_files)\n",
        "X_train = []\n",
        "Y_train = []\n",
        "\n",
        "for i, train_file in enumerate(train_files):\n",
        "  Y_train.append( int(train_file.split('/')[3]) )\n",
        "  X_train.append(np.array(Image.open(train_file)))\n",
        "\n",
        "\n",
        "N_valid = len(valid_files80)\n",
        "X_valid = []\n",
        "Y_valid = []\n",
        "\n",
        "for i, valid_file in enumerate(valid_files80):\n",
        "  Y_valid.append( int(valid_file.split('/')[3]) )\n",
        "  X_valid.append( np.array(Image.open(valid_file)) )\n",
        "\n",
        "N_test = len(test_files)\n",
        "X_test = []\n",
        "Y_test = []\n",
        "\n",
        "for i, test_file in enumerate(test_files):\n",
        "  Y_test.append( int(test_file.split('/')[3]) )\n",
        "  X_test.append( np.array(Image.open(test_file)) )\n",
        "\n",
        "#--- Convertimos las listas de datos a tensores de torch\n",
        "import torch\n",
        "from torch.autograd import Variable\n",
        "\n",
        "X_train = Variable(torch.from_numpy(np.array(X_train))).float()\n",
        "Y_train = Variable(torch.from_numpy(np.array(Y_train))).long()\n",
        "\n",
        "X_valid = Variable(torch.from_numpy(np.array(X_valid))).float()\n",
        "Y_valid = Variable(torch.from_numpy(np.array(Y_valid))).long()\n",
        "\n",
        "X_test = Variable(torch.from_numpy(np.array(X_test))).float()\n",
        "Y_test = Variable(torch.from_numpy(np.array(Y_test))).long()\n",
        "\n",
        "X_train.data.size()\n",
        "\n",
        "#--- Definimos una ANN con dos capas ocultas lineales de 100 neuronas\n",
        "\n",
        "input_dim = 28*28\n",
        "out_dim = 10\n",
        "hidden = 50\n",
        "\n",
        "model = torch.nn.Sequential(\n",
        "  torch.nn.Linear(input_dim, hidden),\n",
        "  torch.nn.ReLU(),  \n",
        "  torch.nn.Linear(hidden, hidden),\n",
        "  torch.nn.ReLU(),       \n",
        "  torch.nn.Linear(hidden, out_dim)\n",
        ")\n",
        "optimizer = torch.optim.Adam(model.parameters())\n",
        "criterion = torch.nn.CrossEntropyLoss()\n",
        "\n",
        "from sklearn.metrics import f1_score # Nueva métrica (La revisaremos la próóxima sesión)\n",
        "\n",
        "#-- Número de épocas\n",
        "n_epoch = 100\n",
        "\n",
        "#-- Listas de evaluación entrenamiento\n",
        "loss_train = []\n",
        "f1_train = []\n",
        "acc_train = []\n",
        "\n",
        "#-- Listas de evaluación validación\n",
        "loss_valid = []\n",
        "f1_valid = []\n",
        "acc_valid = []\n",
        "\n",
        "#-- Entrenamineto de la ANN\n",
        "for epoch in range(n_epoch):\n",
        "  model.train()\n",
        "  \n",
        "  Xtr = X_train.view(X_train.size(0), -1)\n",
        "  Y_pred = model(Xtr)\n",
        "\n",
        "  loss = criterion(Y_pred,Y_train)\n",
        "  loss_train.append(loss.item())\n",
        "\n",
        "  Y_pred = torch.argmax(Y_pred, 1)\n",
        "  f1_train.append( f1_score(Y_train,Y_pred, average='macro') )\n",
        "  \n",
        "  acc = sum(Y_train == Y_pred)/len(Y_pred)\n",
        "  acc_train.append(acc)\n",
        "\n",
        "  optimizer.zero_grad()\n",
        "  loss.backward()\n",
        "  optimizer.step()\n",
        "\n",
        "  print( 'Epoch [{}/{}], loss: {}. f1:{} acc: {} '.format(epoch+1,n_epoch,loss_train[-1], f1_train[-1], acc_train[-1]) )\n",
        "\n",
        "  model.eval()\n",
        "  Xvl = X_valid.view(X_valid.size(0), -1)\n",
        "  Y_pred = model(Xvl)  \n",
        "  loss = criterion(Y_pred,Y_valid)\n",
        "  loss_valid.append(loss.item())\n",
        "\n",
        "  Y_pred = torch.argmax(Y_pred, 1)\n",
        "  f1_valid.append( f1_score(Y_valid, Y_pred, average='macro') )\n",
        "\n",
        "  acc = sum(Y_valid == Y_pred)/len(Y_pred)\n",
        "  acc_valid.append(acc)"
      ],
      "execution_count": null,
      "outputs": []
    },
    {
      "cell_type": "code",
      "metadata": {
        "colab": {
          "base_uri": "https://localhost:8080/",
          "height": 336
        },
        "id": "axGDO4PAi3bK",
        "outputId": "d4d788c1-efb0-45be-a038-e626ce9daf4a"
      },
      "source": [
        "#-- Visualizamos las curvas de entrenamiento y validación\n",
        "\n",
        "fig = plt.figure(figsize=(15,5))\n",
        "plt.subplot(1,3,1)\n",
        "plt.plot(range(n_epoch), loss_train, label='train')\n",
        "plt.plot(range(n_epoch), loss_valid, label='valid')\n",
        "plt.xlabel('n_epoch')\n",
        "plt.ylabel('loss')\n",
        "plt.legend()\n",
        "plt.grid()\n",
        "plt.subplot(1,3,2)\n",
        "plt.plot(range(n_epoch), f1_train, label='train')\n",
        "plt.plot(range(n_epoch), f1_valid, label='valid')\n",
        "plt.xlabel('n_epoch')\n",
        "plt.ylabel('f1_score')\n",
        "plt.legend()\n",
        "plt.grid()\n",
        "plt.subplot(1,3,3)\n",
        "plt.plot(range(n_epoch), acc_train, label='train')\n",
        "plt.plot(range(n_epoch), acc_valid, label='valid')\n",
        "plt.xlabel('n_epoch')\n",
        "plt.ylabel('accuracy')\n",
        "plt.legend()\n",
        "plt.grid()\n",
        "\n",
        "plt.savefig('./curves_ok.png', bbox_inches='tight')\n",
        "plt.show()"
      ],
      "execution_count": 58,
      "outputs": [
        {
          "output_type": "display_data",
          "data": {
            "image/png": "[encoded data removed]",
            "text/plain": [
              "<Figure size 1080x360 with 3 Axes>"
            ]
          },
          "metadata": {
            "needs_background": "light"
          }
        }
      ]
    },
    {
      "cell_type": "code",
      "metadata": {
        "colab": {
          "base_uri": "https://localhost:8080/"
        },
        "id": "5PEnnc26i6b3",
        "outputId": "b7e1581d-4883-4147-ee2f-79b593df8ae3"
      },
      "source": [
        "#-- Evaluamos el modelo entrenado con el set de testeo\n",
        "\n",
        "model.eval()\n",
        "\n",
        "Xts = X_test.view(X_test.size(0), -1)\n",
        "Y_pred = model(Xts)  \n",
        "loss = criterion(Y_pred,Y_test)\n",
        "\n",
        "Y_pred = torch.argmax(Y_pred, 1)\n",
        "f1 = f1_score(Y_test, Y_pred, average='macro')\n",
        "\n",
        "acc = sum(Y_test == Y_pred)/len(Y_pred)\n",
        "\n",
        "print('loss: {}, f1: {}, acc: {}'.format(loss.item(), f1, acc))\n"
      ],
      "execution_count": 59,
      "outputs": [
        {
          "output_type": "stream",
          "text": [
            "loss: 0.3435595631599426, f1: 0.9008734105579748, acc: 0.9012096524238586\n"
          ],
          "name": "stdout"
        }
      ]
    },
    {
      "cell_type": "markdown",
      "metadata": {
        "id": "rQCRJYWFi8Jq"
      },
      "source": [
        "**Análisis para porcentajes diferentes de valid**\n",
        "\n",
        "Acontinuación se presenta los valores de loss, f1 y ACC \n",
        "\n",
        "*   100 valid, 0.3351304829120636, f1: 0.897917718371821, acc: 0.8981854915618896\n",
        "*   10 valid, loss: 0.3527073264122009, f1: 0.9064781909677218, acc: 0.90625\n",
        "*   20 valid, loss: 0.3435595631599426, f1: 0.9008734105579748, acc: 0.9012096524238586\n",
        "*  50 valid, loss: 0.3273859918117523, f1: 0.9118818473947728, acc: 0.9122983813285828\n",
        "*   80 valid, loss: 0.3435595631599426, f1: 0.9008734105579748, acc: 0.9012096524238586\n",
        "\n",
        "\n",
        "Ahora bien, a primera vista se puede ver que para todos los porcentajes los tres valores (loss, f1 y ACC) mantienen números similares. Lo que sugiere que la cantidad de valores de validación no afecta en gran medida el resultado. Sino que, como se pudo ver en los cambios de datos de entrenamiento, se tendrán cambios en el proceso si se reduce o aumenta el train set \n",
        "\n",
        "\n",
        "\n",
        "\n",
        "\n",
        "\n",
        "\n"
      ]
    }
  ]
}